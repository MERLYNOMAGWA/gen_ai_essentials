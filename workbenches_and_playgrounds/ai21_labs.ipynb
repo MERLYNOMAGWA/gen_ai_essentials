{
 "cells": [
  {
   "cell_type": "code",
   "execution_count": null,
   "id": "14491d4a",
   "metadata": {},
   "outputs": [],
   "source": [
    "import os\n",
    "from dotenv import load_dotenv\n",
    "load_dotenv()\n",
    "from ai21 import AI21Client\n",
    "from ai21.models.chat import ResponseFormat\n",
    "from ai21.models.chat import UserMessage"
   ]
  },
  {
   "cell_type": "code",
   "execution_count": null,
   "metadata": {},
   "outputs": [],
   "source": [
    "messages = [\n",
    "   UserMessage(\n",
    "      content=\"Tell me something I don't know. Limit the response to 30 words maximum. \"\n",
    "   )\n",
    "]\n",
    "client = AI21Client(api_key=os.environ.get(\"AI21_API_KEY\"))\n",
    "response = client.chat.completions.create(\n",
    "\t\tmodel=\"jamba-large-1.7\",\n",
    "\t\tmessages= messages,\n",
    "\t\tn=1,\n",
    "\t\tmax_tokens=2048,\n",
    "\t\ttemperature=0.4,\n",
    "\t\ttop_p=1,\n",
    "\t\tresponse_format=ResponseFormat(type=\"text\"),\n",
    ")\n",
    "print(response)"
   ]
  },
  {
   "cell_type": "code",
   "execution_count": null,
   "id": "62890dc5",
   "metadata": {},
   "outputs": [],
   "source": [
    "import os\n",
    "from ai21 import AI21Client\n",
    "from ai21.models.chat import (ChatMessage, ResponseFormat, DocumentSchema, FunctionToolDefinition, ToolDefinition, ToolParameters, UserMessage\n",
    ")\n",
    "\n",
    "messages = [\n",
    "    UserMessage(\n",
    "        content=\"Tell me something I don't know. Limit the response to 30 words maximum.\"\n",
    "    )\n",
    "]\n",
    "\n",
    "client = AI21Client(api_key=os.environ.get(\"AI21_API_KEY\"))\n",
    "\n",
    "response = client.chat.completions.create(\n",
    "    model=\"jamba-large-1.7\",\n",
    "    messages=messages,\n",
    "    n=1,\n",
    "    max_tokens=2048,\n",
    "    temperature=0.4,\n",
    "    top_p=1,\n",
    "    response_format=ResponseFormat(type=\"text\"),\n",
    ")\n",
    "\n",
    "print(response)"
   ]
  }
 ],
 "metadata": {
  "kernelspec": {
   "display_name": "env (3.11.9)",
   "language": "python",
   "name": "python3"
  },
  "language_info": {
   "codemirror_mode": {
    "name": "ipython",
    "version": 3
   },
   "file_extension": ".py",
   "mimetype": "text/x-python",
   "name": "python",
   "nbconvert_exporter": "python",
   "pygments_lexer": "ipython3",
   "version": "3.11.9"
  }
 },
 "nbformat": 4,
 "nbformat_minor": 5
}
