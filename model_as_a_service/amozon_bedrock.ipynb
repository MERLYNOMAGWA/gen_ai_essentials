{
 "cells": [
  {
   "cell_type": "code",
   "execution_count": null,
   "id": "a1b8f8a9",
   "metadata": {},
   "outputs": [],
   "source": [
    "import boto3"
   ]
  },
  {
   "cell_type": "code",
   "execution_count": null,
   "id": "d9d08d5e",
   "metadata": {},
   "outputs": [],
   "source": [
    "client = boto3.client('bedrock-runtime')"
   ]
  },
  {
   "cell_type": "code",
   "execution_count": null,
   "id": "072968df",
   "metadata": {},
   "outputs": [],
   "source": [
    "response = client.converse(\n",
    "    modelId='amazon.nova-micro-v1:0',\n",
    "    messages=[{\n",
    "        'role': 'user',\n",
    "        'content': [{'text': \"Hello, what's the weather like around here?\"}]\n",
    "    }],\n",
    "    system=[{\n",
    "        'text': \"You're correcting my English grammar and spelling mistakes.\"\n",
    "    }]\n",
    ")\n",
    "\n",
    "print(response)"
   ]
  },
  {
   "cell_type": "code",
   "execution_count": null,
   "id": "9b064e71",
   "metadata": {},
   "outputs": [],
   "source": [
    "print(response['output']['message']['content'][0]['text'])"
   ]
  }
 ],
 "metadata": {
  "kernelspec": {
   "display_name": "env (3.11.9)",
   "language": "python",
   "name": "python3"
  },
  "language_info": {
   "codemirror_mode": {
    "name": "ipython",
    "version": 3
   },
   "file_extension": ".py",
   "mimetype": "text/x-python",
   "name": "python",
   "nbconvert_exporter": "python",
   "pygments_lexer": "ipython3",
   "version": "3.11.9"
  }
 },
 "nbformat": 4,
 "nbformat_minor": 5
}
