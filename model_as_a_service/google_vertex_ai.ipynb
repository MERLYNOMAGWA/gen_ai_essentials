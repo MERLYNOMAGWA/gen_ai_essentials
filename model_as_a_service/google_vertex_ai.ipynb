{
 "cells": [
  {
   "cell_type": "code",
   "execution_count": 2,
   "id": "f154e2cc",
   "metadata": {},
   "outputs": [
    {
     "data": {
      "text/plain": [
       "True"
      ]
     },
     "execution_count": 2,
     "metadata": {},
     "output_type": "execute_result"
    }
   ],
   "source": [
    "import dotenv\n",
    "import os\n",
    "dotenv.load_dotenv()"
   ]
  },
  {
   "cell_type": "code",
   "execution_count": 3,
   "id": "a4655fc3",
   "metadata": {},
   "outputs": [
    {
     "name": "stderr",
     "output_type": "stream",
     "text": [
      "c:\\Users\\USER\\Desktop\\DirectEd\\exercises\\Gen-AI-essentials\\env\\Lib\\site-packages\\tqdm\\auto.py:21: TqdmWarning: IProgress not found. Please update jupyter and ipywidgets. See https://ipywidgets.readthedocs.io/en/stable/user_install.html\n",
      "  from .autonotebook import tqdm as notebook_tqdm\n"
     ]
    },
    {
     "name": "stdout",
     "output_type": "stream",
     "text": [
      "AI, at its core, works by enabling computer systems to **learn from data** and **make decisions or predictions** based on that learning, rather than being explicitly programmed for every possible scenario.\n",
      "\n",
      "Here's a breakdown of how it generally works:\n",
      "\n",
      "---\n",
      "\n",
      "### The Core Idea: Learning from Data\n",
      "\n",
      "Traditional computer programs follow explicit, pre-defined rules. You tell the computer \"if X happens, do Y.\" AI, particularly through its dominant subfield **Machine Learning (ML)**, goes beyond this. Instead of being given rules, AI systems are given a vast amount of **data** and algorithms that allow them to *find patterns* and *learn rules* on their own.\n",
      "\n",
      "Think of it like teaching a child:\n",
      "*   **Traditional Programming:** \"If you see a furry animal with four legs and it barks, call it a 'dog'.\" (Explicit rule)\n",
      "*   **AI/Machine Learning:** Show the child thousands of pictures of dogs, cats, birds, and other animals, labeling each one. Over time, the child starts to identify patterns (e.g., dogs often have pointy ears, specific snout shapes, a certain gait) and can then identify new dogs they've never seen before.\n",
      "\n",
      "---\n",
      "\n",
      "### Key Components of How AI Works:\n",
      "\n",
      "1.  **Data:**\n",
      "    *   This is the fuel for AI. It can be images, text, numbers, sounds, videos, etc.\n",
      "    *   **Labeled Data:** Often, the data needs to be \"labeled\" (e.g., an image of a cat marked as \"cat,\" an email marked as \"spam\"). This helps the AI learn what to look for.\n",
      "    *   **Quality & Quantity:** The more relevant and high-quality data an AI system is trained on, the better it will perform.\n",
      "\n",
      "2.  **Algorithms:**\n",
      "    *   These are the \"recipes\" or mathematical instructions that AI models use to learn from data.\n",
      "    *   They define how the system will process information, identify patterns, and make decisions.\n",
      "    *   Examples include: Linear Regression, Decision Trees, Support Vector Machines, Neural Networks (for Deep Learning).\n",
      "\n",
      "3.  **Models:**\n",
      "    *   After an algorithm processes the data, it creates a \"model.\"\n",
      "    *   The model is the learned representation of the patterns in the data. It's essentially the \"knowledge\" or \"brain\" that the AI system has acquired.\n",
      "    *   For example, a model trained to identify cats has learned the specific features and relationships that define a \"cat\" from the training data.\n",
      "\n",
      "4.  **Hardware:**\n",
      "    *   Training complex AI models requires significant computational power.\n",
      "    *   **GPUs (Graphics Processing Units)** are particularly effective for AI because they can perform many calculations simultaneously, which is crucial for training neural networks.\n",
      "\n",
      "---\n",
      "\n",
      "### The Two Main Phases:\n",
      "\n",
      "1.  **Training (Learning Phase):**\n",
      "    *   **Input:** Raw data (often labeled) + an AI algorithm.\n",
      "    *   **Process:** The algorithm processes the data, iteratively adjusting its internal parameters (like weights in a neural network) to minimize errors and find the best patterns. It's like a student practicing with feedback – it tries to make a prediction, sees if it's right, and adjusts its approach if it's wrong.\n",
      "    *   **Output:** A trained AI model. This model has \"learned\" the relationships and features from the data.\n",
      "    *   **Example:** Showing a facial recognition AI millions of pictures of people, telling it who each person is. The AI learns the unique features of each face.\n",
      "\n",
      "2.  **Inference (Prediction/Decision-Making Phase):**\n",
      "    *   **Input:** New, unseen data + the trained AI model.\n",
      "    *   **Process:** The trained model uses its learned knowledge to make predictions or decisions on the new data. It applies the patterns it learned during training.\n",
      "    *   **Output:** A prediction, classification, recommendation, or action.\n",
      "    *   **Example:** Showing the trained facial recognition AI a new picture of a face it hasn't seen during training. It uses its learned features to identify the person.\n",
      "\n",
      "---\n",
      "\n",
      "### How AI \"Thinks\" (A Deeper Dive: Neural Networks & Deep Learning)\n",
      "\n",
      "Many modern AI systems, especially those performing complex tasks like image recognition or natural language understanding, rely on **Deep Learning**, which uses **Artificial Neural Networks (ANNs)**.\n",
      "\n",
      "*   **Inspired by the Brain:** ANNs are loosely modeled after the human brain's structure. They consist of layers of interconnected \"nodes\" (like neurons).\n",
      "*   **Layers:**\n",
      "    *   **Input Layer:** Receives the raw data (e.g., pixels of an image, words of a sentence).\n",
      "    *   **Hidden Layers:** One or more layers in between where complex calculations and feature extraction happen. Each node in a hidden layer processes information from the previous layer, detecting increasingly complex patterns (e.g., first edges, then shapes, then objects in an image).\n",
      "    *   **Output Layer:** Produces the final result (e.g., \"this is a cat,\" \"this email is spam,\" \"the sentiment is positive\").\n",
      "*   **Weights and Activation:** Connections between nodes have \"weights\" (numerical values) that determine the strength and importance of the signal passing through. Each node also has an \"activation function\" that decides whether to \"fire\" (pass information to the next layer) based on the combined weighted input.\n",
      "*   **Learning via Backpropagation:** During training, if the model makes a wrong prediction, the error is \"backpropagated\" through the network. This means the system identifies which weights contributed most to the error and adjusts them slightly to improve future predictions. This iterative adjustment is how the model learns and refines its understanding.\n",
      "\n",
      "---\n",
      "\n",
      "### Putting It All Together (A Simple Example: Spam Detection)\n",
      "\n",
      "1.  **Goal:** Build an AI that can identify spam emails.\n",
      "2.  **Data Collection:** Gather millions of emails, some manually labeled \"spam\" and others \"not spam.\"\n",
      "3.  **Feature Extraction (often automated by the AI itself):** The AI might learn to look for patterns like certain keywords (\"free money,\" \"urgent action\"), sender addresses, frequency of exclamation marks, unusual formatting, etc.\n",
      "4.  **Model Training:** A machine learning algorithm (e.g., a neural network) processes these labeled emails. It learns to associate specific patterns with \"spam\" and others with \"not spam\" by adjusting its internal weights.\n",
      "5.  **Inference (in your inbox):** When a new email arrives, the trained model analyzes it for these learned patterns.\n",
      "6.  **Prediction:** Based on its analysis, the model outputs a probability (e.g., \"95% likely to be spam\") and your email client moves it to the spam folder if the probability is high enough.\n",
      "\n",
      "---\n",
      "\n",
      "In essence, AI works by using algorithms to find patterns in large datasets, creating a \"model\" that can then apply those learned patterns to new, unseen data to make intelligent decisions or predictions. It's about learning from experience, much like humans do, but on a much larger and faster scale.\n"
     ]
    }
   ],
   "source": [
    "import google.generativeai as genai\n",
    "genai.configure(api_key=os.environ[\"GEMINI_API_KEY\"])\n",
    "model = genai.GenerativeModel(\"gemini-2.5-flash-preview-05-20\")\n",
    "response = model.generate_content(\"Explain how AI works\")\n",
    "print(response.text)"
   ]
  }
 ],
 "metadata": {
  "kernelspec": {
   "display_name": "env (3.11.9)",
   "language": "python",
   "name": "python3"
  },
  "language_info": {
   "codemirror_mode": {
    "name": "ipython",
    "version": 3
   },
   "file_extension": ".py",
   "mimetype": "text/x-python",
   "name": "python",
   "nbconvert_exporter": "python",
   "pygments_lexer": "ipython3",
   "version": "3.11.9"
  }
 },
 "nbformat": 4,
 "nbformat_minor": 5
}
